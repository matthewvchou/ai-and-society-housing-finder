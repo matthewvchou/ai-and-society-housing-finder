{
 "cells": [
  {
   "cell_type": "markdown",
   "metadata": {},
   "source": [
    "**Imports and Libraries**"
   ]
  },
  {
   "cell_type": "code",
   "execution_count": 12,
   "metadata": {},
   "outputs": [],
   "source": [
    "import pandas as pd\n",
    "import numpy as np\n",
    "from pymcdm.methods import TOPSIS\n"
   ]
  },
  {
   "cell_type": "markdown",
   "metadata": {},
   "source": [
    "**Safety Model - TOPSIS**"
   ]
  },
  {
   "cell_type": "code",
   "execution_count": null,
   "metadata": {},
   "outputs": [
    {
     "name": "stdout",
     "output_type": "stream",
     "text": [
      "[0.46986796 0.56891522 0.60098253 0.96890604 0.9892899  0.96985379\n",
      " 0.88065935 0.80523103 0.7654081  0.67711534 0.86171113 0.31570307\n",
      " 0.74027425 0.85163576 0.90947717 0.64697743 0.57166055 0.97319265\n",
      " 0.79026304 0.90004441 0.8625605  0.7180266  0.75424399 0.4171162\n",
      " 0.97205704 0.46952268 0.70753066 0.63941602 0.64487798 0.67364993\n",
      " 0.81616186 0.35152519 0.57151705 0.89445328 0.94007837 0.85165125\n",
      " 0.89825445 0.99580443 0.83270426 0.99884076 0.98192425 0.92259687\n",
      " 0.99805197 0.99831309 0.54008786 0.90584438 0.80238767 0.82604748\n",
      " 0.91532331 0.81332506 0.94481232 0.97354341 0.94773727 0.91413915\n",
      " 0.94092294 0.85522707 0.38045151 0.36371958 0.62539075 0.51063085\n",
      " 0.57292132 0.53510066 0.30824303 0.5551199  0.45039336 0.63665923\n",
      " 0.7521523  0.81366528 0.77885092 0.99450736 0.81313166 0.57210544\n",
      " 0.45403589 0.56774434 0.8455545  0.89402123 0.90623717 0.69380868\n",
      " 0.61716979 0.7288332  0.9234245  0.98880658 0.71856374 0.76635752\n",
      " 0.86441725 0.97141191 0.94593984 0.90700087 0.99989779 0.41981494\n",
      " 0.6895447  0.92913445 0.78269401 0.51106086 0.2940186  0.25140688\n",
      " 0.87680213 0.73266657 0.64141546 0.20677061 0.44626992 0.76330598\n",
      " 0.90951517 0.5154324  0.74362089 0.91888795 0.83615315 0.64391439\n",
      " 0.50240512 0.85266503 0.75395638 0.57258392 0.65161014 0.36606863\n",
      " 0.95742787 0.86101    0.75506476 0.80097442 0.7787062  0.49018723\n",
      " 0.79896532 0.84751278 0.60997818 0.642838   0.78958662 0.97896601\n",
      " 0.6144772  0.86907461 0.95566806 0.9693395  0.96076539 0.9910427\n",
      " 0.89137719 0.98369035 0.9959455  0.97918274 0.80806507 0.98492647\n",
      " 0.93863631 0.68617826 0.70206223 0.94825284 0.7224702  0.64008225\n",
      " 0.94071469 0.78831962 0.85774117 0.93654691 0.96536659 0.63897505\n",
      " 0.95474035 0.86471127 0.87770173 0.95995707 0.85040927 0.93224962\n",
      " 0.77168665 0.68728229 0.86593267 0.86384487 0.91531655 0.9340027\n",
      " 0.92841451 0.98118882 0.965869   0.73008389 0.92408892 0.50988518\n",
      " 0.70021196 0.36673102 0.74672223 0.92927074 0.59954988 0.89718299\n",
      " 0.8474753  0.95406465 0.99953507 0.89431442]\n"
     ]
    }
   ],
   "source": [
    "full_dataset = pd.read_csv('/Users/matthewvchou/ai-and-society-housing-finder/datasets/final.csv') # Input full path from own device\n",
    "\n",
    "# Separating into Safety (Crime) and Livability (Food)\n",
    "safety_cols = ['9', 'F', 'I', 'M', 'V']\n",
    "X_safety = full_dataset[safety_cols].values\n",
    "\n",
    "# Weights for Different Columns/Features\n",
    "# From most severe to least severe --> F (Felony), M (Misdemeanor), V (Violation), I (Infraction), 9 (Misc.)\n",
    "# Got these weights by asking ChatGPT\n",
    "safety_weights = np.array([0.1071, 0.4464, 0.0893, 0.2232, 0.1339])\n",
    "\n",
    "# Need to set each Column/Feature as a Net Negative\n",
    "# We used the counts of each crime type, so technically a higher number means less safe\n",
    "# We standardized the data, so no need to redo that part\n",
    "safety_criteria = np.array([-1, -1, -1, -1, -1])\n",
    "\n",
    "# Apply TOPSIS\n",
    "safety_topsis = TOPSIS()\n",
    "safety_scores = safety_topsis(X_safety, safety_weights, safety_criteria)\n",
    "print(safety_scores)"
   ]
  }
 ],
 "metadata": {
  "kernelspec": {
   "display_name": "crime",
   "language": "python",
   "name": "python3"
  },
  "language_info": {
   "codemirror_mode": {
    "name": "ipython",
    "version": 3
   },
   "file_extension": ".py",
   "mimetype": "text/x-python",
   "name": "python",
   "nbconvert_exporter": "python",
   "pygments_lexer": "ipython3",
   "version": "3.9.10"
  }
 },
 "nbformat": 4,
 "nbformat_minor": 2
}
