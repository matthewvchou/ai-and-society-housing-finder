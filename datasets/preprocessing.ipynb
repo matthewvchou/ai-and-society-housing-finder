{
 "cells": [
  {
   "cell_type": "markdown",
   "metadata": {},
   "source": [
    "**Libraries and Imports**"
   ]
  },
  {
   "cell_type": "code",
   "execution_count": 2,
   "metadata": {},
   "outputs": [],
   "source": [
    "import pandas as pd\n",
    "import numpy as np\n",
    "import geopandas as gpd\n",
    "from shapely import wkt\n",
    "from sklearn.preprocessing import StandardScaler"
   ]
  },
  {
   "cell_type": "markdown",
   "metadata": {},
   "source": [
    "**Load in Data**"
   ]
  },
  {
   "cell_type": "code",
   "execution_count": 3,
   "metadata": {},
   "outputs": [],
   "source": [
    "# Load in Crime Dataset\n",
    "crime_raw = pd.read_csv('NYPD_Arrests_Data__Historic_.csv')\n",
    "\n",
    "# Load in Food Dataset\n",
    "food_raw = pd.read_csv('Retail_Food_Stores.csv')"
   ]
  },
  {
   "cell_type": "markdown",
   "metadata": {},
   "source": [
    "**Finding Zipcodes**"
   ]
  },
  {
   "cell_type": "code",
   "execution_count": 4,
   "metadata": {},
   "outputs": [],
   "source": [
    "# Include only crimes dated 2010 or later\n",
    "crime_raw['ARREST_DATE'] = pd.to_datetime(crime_raw['ARREST_DATE'], format='%m/%d/%Y', errors='coerce')\n",
    "date_filtered = crime_raw[crime_raw['ARREST_DATE'] >= pd.Timestamp('2010-01-01')].copy()\n",
    "\n",
    "# Converting from str to shapely.geometry.point.Point for processing into zipcodes\n",
    "food_raw['geometry'] = food_raw['Georeference'].apply(wkt.loads)\n",
    "date_filtered['geometry'] = date_filtered['Lon_Lat'].apply(wkt.loads)\n",
    "\n",
    "# Converting to GeoDataFrame and standardizing Coordinate Points\n",
    "geo_food = gpd.GeoDataFrame(food_raw, geometry='geometry', crs=\"EPSG:4326\")\n",
    "geo_crime = gpd.GeoDataFrame(date_filtered, geometry='geometry', crs=\"EPSG:4326\")\n",
    "\n",
    "# Load in zipcode boundaries\n",
    "# https://data.cityofnewyork.us/Health/Modified-Zip-Code-Tabulation-Areas-MODZCTA-/pri4-ifjk/about_data\n",
    "zip_boundaries = gpd.read_file('Modified Zip Code Tabulation Areas (MODZCTA)_20250326.geojson')\n",
    "zip_boundaries = zip_boundaries.to_crs(\"EPSG:4326\")\n",
    "\n",
    "# Compiling all crimes and food places and assigning them to zipcodes\n",
    "food_with_zip = gpd.sjoin(geo_food, zip_boundaries[['geometry', 'modzcta']], how='left', predicate='within')\n",
    "food_with_zip = food_with_zip.dropna(subset=['modzcta'])\n",
    "\n",
    "crime_with_zip = gpd.sjoin(geo_crime, zip_boundaries[['geometry', 'modzcta']], how='left', predicate='within')\n",
    "crime_with_zip = crime_with_zip.dropna(subset=['modzcta'])\n",
    "\n"
   ]
  },
  {
   "cell_type": "markdown",
   "metadata": {},
   "source": [
    "**Aggregating Counts and Final Dataset**"
   ]
  },
  {
   "cell_type": "code",
   "execution_count": 7,
   "metadata": {},
   "outputs": [],
   "source": [
    "# Counting all types of crimes in each zipcode (9, F, I, M, V)\n",
    "all_zipcodes = crime_with_zip['modzcta'].unique()\n",
    "crime_categories = crime_with_zip['LAW_CAT_CD'].unique()\n",
    "crime_counts = pd.crosstab(crime_with_zip['modzcta'], crime_with_zip['LAW_CAT_CD']).reset_index()\n",
    "crime_counts = crime_counts.drop(columns=['LAW_CAT_CD', '(null)'], errors='ignore')\n",
    "\n",
    "# Counting all types of stores in each zipcode\n",
    "food_categories = food_with_zip['Establishment Type'].unique()\n",
    "food_counts = pd.crosstab(food_with_zip['modzcta'], food_with_zip['Establishment Type']).reset_index()\n",
    "\n",
    "# Combining into Final\n",
    "final = pd.merge(crime_counts, food_counts, on='modzcta')\n",
    "\n",
    "# Initialize StandardScaler\n",
    "scaler = StandardScaler()\n",
    "\n",
    "# Scale only numeric columns (excluding 'modzcta')\n",
    "numeric_cols = final.columns.difference(['modzcta'])  # Get all columns except 'modzcta'\n",
    "final_scaled = final.copy()  # Copy original DataFrame to preserve 'modzcta'\n",
    "final_scaled[numeric_cols] = scaler.fit_transform(final[numeric_cols])  # Apply scaling\n",
    "\n",
    "# Drop zipcode 99999 --> doesn't actually exist\n",
    "final_scaled = final_scaled[final_scaled['modzcta'] != '99999'].copy()\n",
    "\n",
    "# Save to CSV\n",
    "final_scaled.to_csv('final.csv', index=False)"
   ]
  }
 ],
 "metadata": {
  "kernelspec": {
   "display_name": "crime",
   "language": "python",
   "name": "python3"
  },
  "language_info": {
   "codemirror_mode": {
    "name": "ipython",
    "version": 3
   },
   "file_extension": ".py",
   "mimetype": "text/x-python",
   "name": "python",
   "nbconvert_exporter": "python",
   "pygments_lexer": "ipython3",
   "version": "3.9.10"
  }
 },
 "nbformat": 4,
 "nbformat_minor": 2
}
